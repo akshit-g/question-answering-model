{
 "cells": [
  {
   "cell_type": "code",
   "execution_count": 3,
   "metadata": {},
   "outputs": [
    {
     "name": "stdout",
     "output_type": "stream",
     "text": [
      "Answer: Southeast Asia\n",
      "Answer: Sentiment Analysis of Stocks from Headlines\n",
      "Answer: evergreen tree of the soapberry family (Sapindaceae)\n",
      "Answer: ML Intern position at Tower Research Capital\n",
      "Answer: Machine Learning algorithms\n",
      "Answer: Machine Learning algorithms\n",
      "Answer: the tree has attained commercial importance\n"
     ]
    }
   ],
   "source": [
    "import fitz  # PyMuPDF library\n",
    "import cv2  # OpenCV for image processing\n",
    "import pytesseract\n",
    "from transformers import pipeline\n",
    "\n",
    "def extract_text_from_pdf(pdf_path):\n",
    "    with fitz.open(pdf_path) as doc:\n",
    "        text = \"\"\n",
    "        for page in doc:\n",
    "            images = page.get_images()\n",
    "            if images:\n",
    "                for image in images:\n",
    "                    xref = image[0]\n",
    "                    image_data = doc.extract_image(xref)\n",
    "                    img = cv2.imdecode(image_data[\"image\"], cv2.IMREAD_COLOR)\n",
    "                    text += pytesseract.image_to_string(img)\n",
    "            else:\n",
    "                text += page.get_text()\n",
    "    return text\n",
    "\n",
    "def main():\n",
    "    # Load context from a PDF file\n",
    "    pdf_path = input(\"Enter the path to the PDF file: \")\n",
    "    context = extract_text_from_pdf(pdf_path)\n",
    "\n",
    "    # Load the pre-trained question answering model\n",
    "    model_checkpoint = \"akshit-g/distilbert-base-cased\"\n",
    "    question_answerer = pipeline(\"question-answering\", model=model_checkpoint)\n",
    "\n",
    "    while True:\n",
    "        question = input(\"Enter your question (or 'exit' to quit): \")\n",
    "        if question.lower() == \"exit\":\n",
    "            break\n",
    "\n",
    "        result = question_answerer(question=question, context=context)\n",
    "        print(f\"Answer: {result['answer']}\")\n",
    "\n",
    "if __name__ == \"__main__\":\n",
    "    main()"
   ]
  }
 ],
 "metadata": {
  "kernelspec": {
   "display_name": "Python 3",
   "language": "python",
   "name": "python3"
  },
  "language_info": {
   "codemirror_mode": {
    "name": "ipython",
    "version": 3
   },
   "file_extension": ".py",
   "mimetype": "text/x-python",
   "name": "python",
   "nbconvert_exporter": "python",
   "pygments_lexer": "ipython3",
   "version": "3.11.5"
  }
 },
 "nbformat": 4,
 "nbformat_minor": 2
}
